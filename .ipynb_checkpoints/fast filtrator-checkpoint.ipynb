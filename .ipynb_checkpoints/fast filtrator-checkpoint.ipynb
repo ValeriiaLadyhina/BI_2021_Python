{
 "cells": [
  {
   "cell_type": "code",
   "execution_count": 2,
   "id": "98c422b1",
   "metadata": {},
   "outputs": [],
   "source": [
    "input_fastq = 'SRR292678sub_S1_L001_R1_001.fastq'"
   ]
  },
  {
   "cell_type": "code",
   "execution_count": 3,
   "id": "6ebad1d7",
   "metadata": {},
   "outputs": [],
   "source": [
    "def open_fastq_file(input_fastq):\n",
    "    with open(input_fastq, 'r') as file:\n",
    "        fastq_file = r.radlines()\n",
    "    sequence = []\n",
    "    quality_score = []\n",
    "    for i in range (0, len(fastq_file),4):\n",
    "        sequence = fastq_file[i+1]\n",
    "        quality_score = quality_score"
   ]
  },
  {
   "cell_type": "code",
   "execution_count": null,
   "id": "0d18366b",
   "metadata": {},
   "outputs": [],
   "source": []
  }
 ],
 "metadata": {
  "kernelspec": {
   "display_name": "Python 3 (ipykernel)",
   "language": "python",
   "name": "python3"
  },
  "language_info": {
   "codemirror_mode": {
    "name": "ipython",
    "version": 3
   },
   "file_extension": ".py",
   "mimetype": "text/x-python",
   "name": "python",
   "nbconvert_exporter": "python",
   "pygments_lexer": "ipython3",
   "version": "3.8.8"
  }
 },
 "nbformat": 4,
 "nbformat_minor": 5
}
