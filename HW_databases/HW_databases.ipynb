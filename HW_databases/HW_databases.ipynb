{
 "cells": [
  {
   "cell_type": "code",
   "execution_count": 1,
   "id": "4a831c84",
   "metadata": {},
   "outputs": [],
   "source": [
    "import sqlite3\n",
    "from bs4 import BeautifulSoup\n",
    "from urllib.request import urlopen\n",
    "import re"
   ]
  },
  {
   "cell_type": "code",
   "execution_count": 17,
   "id": "49892129",
   "metadata": {},
   "outputs": [
    {
     "name": "stdout",
     "output_type": "stream",
     "text": [
      "Package                Version\n",
      "---------------------- ---------\n",
      "beautifulsoup4         4.11.1\n",
      "brotlipy               0.7.0\n",
      "certifi                2021.10.8\n",
      "cffi                   1.14.6\n",
      "charset-normalizer     2.0.12\n",
      "colorama               0.4.4\n",
      "conda                  4.12.0\n",
      "conda-package-handling 1.8.0\n",
      "cryptography           36.0.2\n",
      "greenlet               0.4.13\n",
      "hpy                    0.0.3\n",
      "idna                   3.3\n",
      "libmambapy             0.23.3\n",
      "mamba                  0.23.3\n",
      "pip                    22.0.4\n",
      "pycosat                0.6.3\n",
      "pyOpenSSL              22.0.0\n",
      "PySocks                1.7.1\n",
      "readline               6.2.4.1\n",
      "requests               2.27.1\n",
      "ruamel-yaml-conda      0.15.80\n",
      "setuptools             60.10.0\n",
      "six                    1.16.0\n",
      "soupsieve              2.3.1\n",
      "tqdm                   4.63.0\n",
      "urllib3                1.26.9\n",
      "wheel                  0.37.1\n"
     ]
    }
   ],
   "source": [
    "!pip list"
   ]
  },
  {
   "cell_type": "code",
   "execution_count": 2,
   "id": "5a4a26f6",
   "metadata": {},
   "outputs": [],
   "source": [
    "url='https://www.slu.se/en/education/programmes-courses/' #webpage of SLU with programmes\n",
    "page = urlopen(url)\n",
    "html = page.read().decode(\"utf-8\")\n",
    "soup = BeautifulSoup(html, \"html.parser\")\n",
    "article=soup.find_all('article')\n",
    "pattern=re.compile(r'<span class=\"content\">.*</span>')\n",
    "content=pattern.findall(str(article))\n",
    "pattern=re.compile(r'<span class=\"headline\">.*</span>')\n",
    "headlines=pattern.findall(str(article))\n",
    "pattern=re.compile(r'<a href=\".*>')\n",
    "ahref=pattern.findall(str(article))\n",
    "pattern2=re.compile(r'>.*<')\n",
    "pattern_ahref=re.compile(r'\\/.*\\/')\n",
    "SLU_programmes=[]\n",
    "for i in range(23):\n",
    "    programme = pattern2.findall(headlines[i])\n",
    "    content_i = pattern2.findall(content[i])\n",
    "    ahref_i=pattern_ahref.findall(ahref[i])[0]\n",
    "    ahref_i=ahref_i[1:-1].split('/')\n",
    "    if ahref_i[3] == 'bachelors-programmes':\n",
    "        type_programme='Bachelor'\n",
    "    else:\n",
    "        type_programme='Master'\n",
    "\n",
    "    SLU_programmes.append([programme[0][1:-1],ahref_i[0],type_programme,120,content_i[0][1:-1]])    "
   ]
  },
  {
   "cell_type": "code",
   "execution_count": 4,
   "id": "82d3c724",
   "metadata": {},
   "outputs": [],
   "source": [
    "connection = sqlite3.connect('SLU_english_programmes.db')"
   ]
  },
  {
   "cell_type": "code",
   "execution_count": 5,
   "id": "a20de410",
   "metadata": {},
   "outputs": [],
   "source": [
    "query = '''CREATE TABLE SLU_programmes(\n",
    "                            id INTREGER PRIMARY KEY,\n",
    "                            name TEXT,\n",
    "                            language TEXT,\n",
    "                            level TEXT,\n",
    "                            length INTREGER,\n",
    "                            question TEXT)\n",
    "                            '''"
   ]
  },
  {
   "cell_type": "code",
   "execution_count": 6,
   "id": "63d06fe6",
   "metadata": {},
   "outputs": [
    {
     "data": {
      "text/plain": [
       "<sqlite3.Cursor at 0x107bb5570>"
      ]
     },
     "execution_count": 6,
     "metadata": {},
     "output_type": "execute_result"
    }
   ],
   "source": [
    "connection.execute(query)"
   ]
  },
  {
   "cell_type": "code",
   "execution_count": 7,
   "id": "5bc346d1",
   "metadata": {},
   "outputs": [],
   "source": [
    "insertion_query = '''INSERT INTO \n",
    "                     SLU_programmes (name,language, level, length, question)\n",
    "                     VALUES (?, ?, ?, ?, ?)\n",
    "                     '''"
   ]
  },
  {
   "cell_type": "code",
   "execution_count": 8,
   "id": "a6906da0",
   "metadata": {},
   "outputs": [],
   "source": [
    "connection.executemany(insertion_query, SLU_programmes)\n",
    "connection.commit()"
   ]
  },
  {
   "cell_type": "code",
   "execution_count": 9,
   "id": "d98eacd1",
   "metadata": {},
   "outputs": [],
   "source": [
    "connection.close()"
   ]
  }
 ],
 "metadata": {
  "kernelspec": {
   "display_name": "Python 3 (ipykernel)",
   "language": "python",
   "name": "python3"
  },
  "language_info": {
   "codemirror_mode": {
    "name": "ipython",
    "version": 3
   },
   "file_extension": ".py",
   "mimetype": "text/x-python",
   "name": "python",
   "nbconvert_exporter": "python",
   "pygments_lexer": "ipython3",
   "version": "3.9.12"
  }
 },
 "nbformat": 4,
 "nbformat_minor": 5
}
